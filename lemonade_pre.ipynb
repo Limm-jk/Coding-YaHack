{
  "nbformat": 4,
  "nbformat_minor": 0,
  "metadata": {
    "colab": {
      "name": "lemonade_pre.ipynb",
      "provenance": [],
      "collapsed_sections": [],
      "authorship_tag": "ABX9TyN5hlY1JC2Ru/lgmFQdRV02",
      "include_colab_link": true
    },
    "kernelspec": {
      "name": "python3",
      "display_name": "Python 3"
    }
  },
  "cells": [
    {
      "cell_type": "markdown",
      "metadata": {
        "id": "view-in-github",
        "colab_type": "text"
      },
      "source": [
        "<a href=\"https://colab.research.google.com/github/Limm-jk/Coding-YaHack/blob/master/lemonade_pre.ipynb\" target=\"_parent\"><img src=\"https://colab.research.google.com/assets/colab-badge.svg\" alt=\"Open In Colab\"/></a>"
      ]
    },
    {
      "cell_type": "code",
      "metadata": {
        "id": "pD7IQjxoEhkW",
        "colab_type": "code",
        "colab": {}
      },
      "source": [
        "import pandas as pd\n",
        "import tensorflow as tf"
      ],
      "execution_count": 8,
      "outputs": []
    },
    {
      "cell_type": "code",
      "metadata": {
        "id": "AE4qM7SIEt_j",
        "colab_type": "code",
        "colab": {}
      },
      "source": [
        "# 데이터 준비\n",
        "path = 'https://raw.githubusercontent.com/blackdew/tensorflow1/master/csv/lemonade.csv'\n",
        "lemon_data = pd.read_csv(path)"
      ],
      "execution_count": 9,
      "outputs": []
    },
    {
      "cell_type": "code",
      "metadata": {
        "id": "ZSxyvPDiEt7T",
        "colab_type": "code",
        "colab": {
          "base_uri": "https://localhost:8080/",
          "height": 195
        },
        "outputId": "6641272c-cbaf-42bd-dfb4-4d04f91d9a41"
      },
      "source": [
        "# 데이터 확인\n",
        "lemon_data.head()"
      ],
      "execution_count": 10,
      "outputs": [
        {
          "output_type": "execute_result",
          "data": {
            "text/html": [
              "<div>\n",
              "<style scoped>\n",
              "    .dataframe tbody tr th:only-of-type {\n",
              "        vertical-align: middle;\n",
              "    }\n",
              "\n",
              "    .dataframe tbody tr th {\n",
              "        vertical-align: top;\n",
              "    }\n",
              "\n",
              "    .dataframe thead th {\n",
              "        text-align: right;\n",
              "    }\n",
              "</style>\n",
              "<table border=\"1\" class=\"dataframe\">\n",
              "  <thead>\n",
              "    <tr style=\"text-align: right;\">\n",
              "      <th></th>\n",
              "      <th>온도</th>\n",
              "      <th>판매량</th>\n",
              "    </tr>\n",
              "  </thead>\n",
              "  <tbody>\n",
              "    <tr>\n",
              "      <th>0</th>\n",
              "      <td>20</td>\n",
              "      <td>40</td>\n",
              "    </tr>\n",
              "    <tr>\n",
              "      <th>1</th>\n",
              "      <td>21</td>\n",
              "      <td>42</td>\n",
              "    </tr>\n",
              "    <tr>\n",
              "      <th>2</th>\n",
              "      <td>22</td>\n",
              "      <td>44</td>\n",
              "    </tr>\n",
              "    <tr>\n",
              "      <th>3</th>\n",
              "      <td>23</td>\n",
              "      <td>46</td>\n",
              "    </tr>\n",
              "    <tr>\n",
              "      <th>4</th>\n",
              "      <td>24</td>\n",
              "      <td>48</td>\n",
              "    </tr>\n",
              "  </tbody>\n",
              "</table>\n",
              "</div>"
            ],
            "text/plain": [
              "   온도  판매량\n",
              "0  20   40\n",
              "1  21   42\n",
              "2  22   44\n",
              "3  23   46\n",
              "4  24   48"
            ]
          },
          "metadata": {
            "tags": []
          },
          "execution_count": 10
        }
      ]
    },
    {
      "cell_type": "code",
      "metadata": {
        "id": "s7Pxa0AmFEhC",
        "colab_type": "code",
        "colab": {
          "base_uri": "https://localhost:8080/",
          "height": 34
        },
        "outputId": "330f9c08-584f-4fae-bb67-8e59e7adee66"
      },
      "source": [
        "# 독립변수와 종속변수를 분리\n",
        "iv = lemon_data[['온도']]\n",
        "dv = lemon_data[['판매량']]\n",
        "\n",
        "print(iv.shape, dv.shape)"
      ],
      "execution_count": 11,
      "outputs": [
        {
          "output_type": "stream",
          "text": [
            "(6, 1) (6, 1)\n"
          ],
          "name": "stdout"
        }
      ]
    },
    {
      "cell_type": "code",
      "metadata": {
        "id": "sPmbSHkmHS0V",
        "colab_type": "code",
        "colab": {}
      },
      "source": [
        "# 모델 만들기\n",
        "x = tf.keras.layers.Input(shape=[1])\n",
        "y = tf.keras.layers.Dense(1)(x)\n",
        "model = tf.keras.models.Model(x,y)\n",
        "model.compile(loss='mse')"
      ],
      "execution_count": 12,
      "outputs": []
    },
    {
      "cell_type": "code",
      "metadata": {
        "id": "jCU7ZCMLHqbf",
        "colab_type": "code",
        "colab": {
          "base_uri": "https://localhost:8080/",
          "height": 386
        },
        "outputId": "b64461c1-9213-483c-c2b8-01ce76ff2645"
      },
      "source": [
        "# 학습\n",
        "# model.fit(iv, dv, epochs=10000, verbose=0)\n",
        "model.fit(iv, dv, epochs=10)"
      ],
      "execution_count": 16,
      "outputs": [
        {
          "output_type": "stream",
          "text": [
            "Epoch 1/10\n",
            "1/1 [==============================] - 0s 1ms/step - loss: 0.0019\n",
            "Epoch 2/10\n",
            "1/1 [==============================] - 0s 4ms/step - loss: 0.0019\n",
            "Epoch 3/10\n",
            "1/1 [==============================] - 0s 970us/step - loss: 0.0019\n",
            "Epoch 4/10\n",
            "1/1 [==============================] - 0s 2ms/step - loss: 0.0019\n",
            "Epoch 5/10\n",
            "1/1 [==============================] - 0s 2ms/step - loss: 0.0019\n",
            "Epoch 6/10\n",
            "1/1 [==============================] - 0s 2ms/step - loss: 0.0019\n",
            "Epoch 7/10\n",
            "1/1 [==============================] - 0s 2ms/step - loss: 0.0019\n",
            "Epoch 8/10\n",
            "1/1 [==============================] - 0s 2ms/step - loss: 0.0019\n",
            "Epoch 9/10\n",
            "1/1 [==============================] - 0s 1ms/step - loss: 0.0019\n",
            "Epoch 10/10\n",
            "1/1 [==============================] - 0s 1ms/step - loss: 0.0019\n"
          ],
          "name": "stdout"
        },
        {
          "output_type": "execute_result",
          "data": {
            "text/plain": [
              "<tensorflow.python.keras.callbacks.History at 0x7f6af17550f0>"
            ]
          },
          "metadata": {
            "tags": []
          },
          "execution_count": 16
        }
      ]
    },
    {
      "cell_type": "code",
      "metadata": {
        "id": "ZvaZAvJUIKP6",
        "colab_type": "code",
        "colab": {
          "base_uri": "https://localhost:8080/",
          "height": 122
        },
        "outputId": "ca73248f-736d-4484-a9d7-3782610e024a"
      },
      "source": [
        "model.predict(iv)"
      ],
      "execution_count": 17,
      "outputs": [
        {
          "output_type": "execute_result",
          "data": {
            "text/plain": [
              "array([[40.074646],\n",
              "       [42.050694],\n",
              "       [44.02674 ],\n",
              "       [46.00279 ],\n",
              "       [47.978836],\n",
              "       [49.954884]], dtype=float32)"
            ]
          },
          "metadata": {
            "tags": []
          },
          "execution_count": 17
        }
      ]
    },
    {
      "cell_type": "code",
      "metadata": {
        "id": "Z8U85JCsIQS4",
        "colab_type": "code",
        "colab": {
          "base_uri": "https://localhost:8080/",
          "height": 34
        },
        "outputId": "e78271fb-60f8-484b-ef1a-e66485f6b541"
      },
      "source": [
        "model.predict([[15]])"
      ],
      "execution_count": 18,
      "outputs": [
        {
          "output_type": "execute_result",
          "data": {
            "text/plain": [
              "array([[30.19441]], dtype=float32)"
            ]
          },
          "metadata": {
            "tags": []
          },
          "execution_count": 18
        }
      ]
    }
  ]
}